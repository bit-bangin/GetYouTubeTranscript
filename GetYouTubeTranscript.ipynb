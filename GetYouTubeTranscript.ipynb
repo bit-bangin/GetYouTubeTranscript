{
  "nbformat": 4,
  "nbformat_minor": 0,
  "metadata": {
    "colab": {
      "provenance": [],
      "authorship_tag": "ABX9TyOLmehi2RkGHq69TmBGHOgn",
      "include_colab_link": true
    },
    "kernelspec": {
      "name": "python3",
      "display_name": "Python 3"
    },
    "language_info": {
      "name": "python"
    }
  },
  "cells": [
    {
      "cell_type": "markdown",
      "metadata": {
        "id": "view-in-github",
        "colab_type": "text"
      },
      "source": [
        "<a href=\"https://colab.research.google.com/github/bit-bangin/GetYouTubeTranscript/blob/main/GetYouTubeTranscript.ipynb\" target=\"_parent\"><img src=\"https://colab.research.google.com/assets/colab-badge.svg\" alt=\"Open In Colab\"/></a>"
      ]
    },
    {
      "cell_type": "markdown",
      "source": [
        "# Given URL > Video ID"
      ],
      "metadata": {
        "id": "aeUE1B_vQO-G"
      }
    },
    {
      "cell_type": "code",
      "source": [
        "from urllib.parse import urlparse, parse_qs\n",
        "\n",
        "def extract_video_id(url):\n",
        "  '''\n",
        "  Function to extract the video ID from a YouTube URL.\n",
        "  PARAMETERS:\n",
        "  url (type: str): The YouTube URL\n",
        "  RETURN:\n",
        "  video_id 'v' (type: str): Extracted video ID, or None if no ID found.\n",
        "  '''\n",
        "  # Use urlparse to break up the URL into components.\n",
        "  parsed_url = urlparse(url)\n",
        "  \n",
        "  # Use parse_qs to parse the query string (after '?') from given URL.\n",
        "  # This returns a dictionary where keys are parameter names ('v' as it were)\n",
        "  # and values are lists of corresponding values. \n",
        "  video_id = parse_qs(parsed_url.query).get('v')\n",
        "  \n",
        "  # If 'v' parameter is found in the dictionary, return it's value (video ID)\n",
        "  # If not found, return None.\n",
        "  if video_id:\n",
        "    return video_id[0] # 'v' parameter's value is the video ID\n",
        "  else:\n",
        "    return None # 'v' parameter not found in given URL"
      ],
      "metadata": {
        "id": "CIdWDeHJnHDJ"
      },
      "execution_count": null,
      "outputs": []
    },
    {
      "cell_type": "markdown",
      "source": [
        "# Given Video ID > Return Transcript"
      ],
      "metadata": {
        "id": "FFU8NbWSPh8A"
      }
    },
    {
      "cell_type": "code",
      "source": [
        "# Import the YouTubeTranscriptApi library.\n",
        "# Provides functionality with YouTube to fetch transcripts\n",
        "from youtube_transcript_api import YouTubeTranscriptApi\n",
        "\n",
        "def get_transcript(video_id):\n",
        "  '''\n",
        "  Function to fetch a transcript given a YouTube video ID. \n",
        "  PARAMETERS:\n",
        "  video_id (type: str): YouTube video ID\n",
        "  RETURNS:\n",
        "  transcript (type: list of dict):\n",
        "  The transcript is returned as a list of dictionaries.\n",
        "  Each dictionary represents a segment of the transcript, contains text, \n",
        "  start time, and duration.\n",
        "  '''\n",
        "  try:\n",
        "    transcript = YouTubeTranscriptApi.get_transcript(video_id)\n",
        "    # If fetch was successful, return transcript as list of dictionaries.\n",
        "    return transcript\n",
        "    # If an error occurs during fetch, catch exception. \n",
        "  except Exception as e:\n",
        "    # Print an error message. Placeholder {e} is replaced with details.\n",
        "    print(f\"An error occurred: {e}\")\n",
        "    # Since an error occurred, return type None. \n",
        "    return None"
      ],
      "metadata": {
        "id": "oWLnnNUFqJID"
      },
      "execution_count": null,
      "outputs": []
    },
    {
      "cell_type": "markdown",
      "source": [
        "# Format data"
      ],
      "metadata": {
        "id": "lio1KBuuPrFb"
      }
    },
    {
      "cell_type": "code",
      "source": [
        "def format_transcript(transcript):\n",
        "  '''\n",
        "  Function to format the returned transcript.\n",
        "  PARAMETERS:\n",
        "  transcript (list): Data from the transcript as a list of dictionaries.\n",
        "  RETURNS:\n",
        "  str: The formatted transcript as a single string. \n",
        "  '''\n",
        "\n",
        "  # Use a list comprehension to extract the 'text' from each dictionary.\n",
        "  # The resultant texts list is a list of strings.\n",
        "  texts = [segment['text'] for segment in transcript]\n",
        "\n",
        "  # Join the strings in the texts list into a single string, with each \n",
        "  # string separated by a space. \n",
        "  formatted_transcript = ' '.join(texts)\n",
        "\n",
        "  return formatted_transcript"
      ],
      "metadata": {
        "id": "YZbVQxyN5d6l"
      },
      "execution_count": null,
      "outputs": []
    },
    {
      "cell_type": "markdown",
      "source": [
        "# Write data to specified location"
      ],
      "metadata": {
        "id": "yKZ_VzDyPwjA"
      }
    },
    {
      "cell_type": "code",
      "source": [
        "def output_transcript(transcript, filename):\n",
        "  '''\n",
        "  Function to output the transcript to a text file. \n",
        "  PARAMETERS:\n",
        "  transcript (str): Reformatted script\n",
        "  filename (str): Name of file to which to write within CD\n",
        "  RETURNS:\n",
        "  None\n",
        "  '''\n",
        "\n",
        "  # Open the specified file in write mode ('w').\n",
        "  # If file exists - overwrite. If not - create. \n",
        "  with open(filename, 'w') as file:\n",
        "    # Write the transcript to the file.\n",
        "    file.write(transcript)"
      ],
      "metadata": {
        "id": "gkX7ZEZC8mfH"
      },
      "execution_count": 1,
      "outputs": []
    },
    {
      "cell_type": "markdown",
      "source": [
        "# Notes\n",
        "The function `output_transcript` will create/open the file referenced in the current working directory. \n",
        "If you want to indicate a new location, provide the full filepath, like so: \n",
        "### UNIX\n",
        "`output_transcript(formatted_transcript, '/Users /yourusername /Desktop /transcripts /transcripts.txt')`\n",
        "### WINDOWS\n",
        "`output_transcript(formatted_transcript, 'C:\\\\Users\\\\yourusername\\\\Desktop\\\\transcripts\\\\transcript.txt')`\n",
        "\n",
        "### os Module\n",
        "Alternatively, you can leverage Python's **os** module to manipulate the paths in a manner that is independent of the native operating system.\n",
        "\n",
        "> `import os`\n",
        "> Construct the path\n",
        "> `path = os.path.join('Users', 'yourusername', 'Desktop', 'transcripts', 'transcript.txt')`\n",
        "> Pass the path to output_transcript\n",
        "> `output_transcript(formatted_transcript, path)`\n",
        "\n",
        "\n",
        "\n",
        "\n",
        "\n",
        "\n",
        "\n",
        "\n",
        "\n"
      ],
      "metadata": {
        "id": "wy6CsgsGwAZg"
      }
    },
    {
      "cell_type": "markdown",
      "source": [
        "# Integrate components\n",
        "Prior to runtime, be sure to run pip install <b>youtube_transcript_api</b>: \n",
        "\n",
        "\n",
        "---\n",
        "\n",
        "\n",
        "`pip install youtube_transcript_api`"
      ],
      "metadata": {
        "id": "UPvYn15EQJur"
      }
    },
    {
      "cell_type": "code",
      "source": [
        "from urllib.parse import urlparse, parse_qs\n",
        "from youtube_transcript_api import YouTubeTranscriptApi\n",
        "\n",
        "# Function to extract video ID from URL\n",
        "def extract_video_id(url):\n",
        "    '''\n",
        "    Function to extract the video ID from a YouTube URL.\n",
        "\n",
        "    Parameters:\n",
        "    url (str): The YouTube URL.\n",
        "\n",
        "    Returns:\n",
        "    str: The extracted video ID.\n",
        "    '''\n",
        "\n",
        "    # Parse the URL\n",
        "    parsed_url = urlparse(url)\n",
        "\n",
        "    # Extract the video ID from the 'v' query parameter\n",
        "    video_id = parse_qs(parsed_url.query).get('v')\n",
        "    if video_id:\n",
        "        return video_id[0]\n",
        "    else:\n",
        "        return None\n",
        "\n",
        "# Function to obtain transcript\n",
        "def get_transcript(video_id):\n",
        "    '''\n",
        "    Function to get the transcript of a YouTube video.\n",
        "\n",
        "    Parameters:\n",
        "    video_id (str): The YouTube video ID.\n",
        "\n",
        "    Returns:\n",
        "    list: The video transcript.\n",
        "    '''\n",
        "\n",
        "    try:\n",
        "        transcript = YouTubeTranscriptApi.get_transcript(video_id)\n",
        "        return transcript\n",
        "    except Exception as e:\n",
        "        print(f\"An error occurred: {e}\")\n",
        "        return None\n",
        "\n",
        "# Function to format transcript\n",
        "def format_transcript(transcript):\n",
        "    '''\n",
        "    Function to format the transcript.\n",
        "\n",
        "    Parameters:\n",
        "    transcript (list): The transcript data as a list of dictionaries.\n",
        "\n",
        "    Returns:\n",
        "    str: The formatted transcript as a single string.\n",
        "    '''\n",
        "\n",
        "    # Use a list comprehension to extract the 'text' from each dictionary.\n",
        "    texts = [segment['text'] for segment in transcript]\n",
        "\n",
        "    # Join the strings in the texts list into a single string.\n",
        "    formatted_transcript = ' '.join(texts)\n",
        "\n",
        "    return formatted_transcript\n",
        "\"\"\"\n",
        "# Function to output transcript (print)\n",
        "def output_transcript(transcript):\n",
        "  '''\n",
        "  Function to output the transcript to the console.\n",
        "  \n",
        "  Parameters:\n",
        "  transcript (str): The reformatted transcript.\n",
        "  \n",
        "  Returns:\n",
        "  None\n",
        "  '''\n",
        "  print(transcript)\n",
        " \"\"\"\n",
        "# Function to output transcript (save)\n",
        "def output_transcript(transcript, filename):\n",
        "  '''\n",
        "  Function to output the trasncript to a file. \n",
        "\n",
        "  Parameters:\n",
        "  transcript(str): The reformatted transcript.\n",
        "\n",
        "  Returns:\n",
        "  None\n",
        "  '''\n",
        "  # Open the specified file in write mode ('w').\n",
        "  # If file already exists - overwrite. If new - create.\n",
        "  with open(filename, 'w') as file:\n",
        "    # Write the transcript to the file.\n",
        "    file.write(transcript)\n",
        "\n",
        "# Main function\n",
        "def main(url, filename):\n",
        "    '''\n",
        "    Main function to get and output the transcript of a YouTube video.\n",
        "\n",
        "    Parameters:\n",
        "    url (str): The YouTube video URL.\n",
        "    filename (str): The name of the file (within cd) to which to save transcript.\n",
        "\n",
        "    Returns:\n",
        "    None\n",
        "    '''\n",
        "\n",
        "    # Extract the video ID from the URL.\n",
        "    video_id = extract_video_id(url)\n",
        "\n",
        "    # Get the transcript.\n",
        "    transcript = get_transcript(video_id)\n",
        "\n",
        "    # Format the transcript.\n",
        "    formatted_transcript = format_transcript(transcript)\n",
        "\n",
        "    # Output the transcript.\n",
        "    output_transcript(formatted_transcript, filename)\n",
        "\n",
        "# Test the main function\n",
        "main(\"https://www.youtube.com/watch?v=dQw4w9WgXcQ\", \"transcript.txt\")\n"
      ],
      "metadata": {
        "id": "kbCC2w7GpsK6"
      },
      "execution_count": 6,
      "outputs": []
    }
  ]
}