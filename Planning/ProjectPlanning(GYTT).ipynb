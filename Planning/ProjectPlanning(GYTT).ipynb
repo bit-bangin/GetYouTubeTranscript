{
 "cells": [
  {
   "attachments": {},
   "cell_type": "markdown",
   "metadata": {},
   "source": [
    "# Requirements Gathering & Analysis\n",
    "---"
   ]
  },
  {
   "attachments": {},
   "cell_type": "markdown",
   "metadata": {},
   "source": [
    "## Requirements"
   ]
  },
  {
   "attachments": {},
   "cell_type": "markdown",
   "metadata": {},
   "source": [
    "### Functional Requirements\n",
    "\n",
    "The program should: \n",
    "1.  Accept as input a YouTube URL.\n",
    "2.  Validate the input to ensure validity. \n",
    "3.  Extract the video ID from the given URL.\n",
    "4.  Fetch the transcript for the given URL.\n",
    "5.  Format the fetched transcript into a readable format. \n",
    "6.  Additionally accept as input a filename. \n",
    "7.  Save the formatted transcript to the given filename. "
   ]
  },
  {
   "attachments": {},
   "cell_type": "markdown",
   "metadata": {},
   "source": [
    "### Nonfunctional Requirements\n",
    "\n",
    "1. Performance\n",
    "    - Reasonable time to fetch and save transcripts.\n",
    "2. Reliability\n",
    "    - Gracefully handle errors.\n",
    "3. Security\n",
    "    - Secure handling of user input. \n",
    "    - Not violating terms of service. \n",
    "4. Portability\n",
    "    - Platform-independent. \n",
    "5. Maintainability\n",
    "    - Code should be well-structured, commented to allow for updates/fixes as required.\n",
    "6. Scalability\n",
    "    - The program should be able to handle larger requests (longer videos) without significant performance degredation. "
   ]
  },
  {
   "attachments": {},
   "cell_type": "markdown",
   "metadata": {},
   "source": [
    "### Technical Requirements\n",
    "\n",
    "- IDE (installed and baselined)\n",
    "    - Python\n",
    "- Python Standard Library\n",
    "- youtube_transcript_api\n",
    "- Requests library\n",
    "\n",
    "Developer to possess an understanding of:\n",
    "- JSON data structures\n",
    "- File handling in Python"
   ]
  },
  {
   "attachments": {},
   "cell_type": "markdown",
   "metadata": {},
   "source": [
    "## Problem"
   ]
  },
  {
   "attachments": {},
   "cell_type": "markdown",
   "metadata": {},
   "source": [
    "### Real-World Application\n",
    "\n",
    "**About**\n",
    "\n",
    "- I lack the auditory processing skills required to retain information presented in a YouTube video. However I enjoy content from several creators on the platform. \n",
    "  - I prefer to read the content, much as one might read an article or a book. Unfortunately, the process of making a copy of the video transcript is somewhat cumbersome, and not especially time-efficient.\n",
    "\n",
    "**Accessibility**\n",
    "\n",
    "- I hope to create a program to make copies of specified video transcripts more accessible. "
   ]
  },
  {
   "attachments": {},
   "cell_type": "markdown",
   "metadata": {},
   "source": [
    "### What Does Success Look Like?\n",
    "\n",
    "1. Functionality\n",
    "    - The program successfully extracts the transcript from a given YouTube video URL. This is the primary function of the program, so its ability to do this correctly would be a key measure of success.\n",
    "\n",
    "2. Accuracy\n",
    "    - The extracted transcript accurately represents the content of the video.\n",
    "    - Potentially measured by comparing a sample of the extracted transcript to the actual video content and checking for discrepancies.\n",
    "\n",
    "3. Efficiency\n",
    "    - The program performs the extraction process within an acceptable time frame. While the exact time may depend on factors like the length of the video, the program should not take an excessively long time to perform the extraction.\n",
    "\n",
    "4. Usability\n",
    "    - The program is easy to use. A user with reasonable computer skills should be able to use the program without excessive difficulty.\n",
    "    - Potentially measured through user testing and feedback.\n",
    "\n",
    "5. Reliability\n",
    "    - The program can handle different types of videos and does not crash or produce errors during the extraction process. It should be able to handle edge cases gracefully, such as when a video does not have a transcript available.\n",
    "\n",
    "6. Security\n",
    "    - The program does not expose the user or their data to security risks. This might involve ensuring that the program does not require unnecessary permissions, that it handles data securely, and that it does not expose the user to potential security threats from external sources.\n"
   ]
  },
  {
   "attachments": {},
   "cell_type": "markdown",
   "metadata": {},
   "source": [
    "# Design\n",
    "---"
   ]
  },
  {
   "attachments": {},
   "cell_type": "markdown",
   "metadata": {},
   "source": [
    "## Architecture"
   ]
  },
  {
   "attachments": {},
   "cell_type": "markdown",
   "metadata": {},
   "source": [
    "### First Iteration\n",
    "1. Given a URL, extract the video ID.\n",
    "2. Given a Video ID, fetch the transcript.\n",
    "3. Given fetched transcript, reformat to readable format. \n",
    "4. Given reformatted transcript, output according to requirements.\n",
    "5. From function call (main), integrate preceeding functions to accept input and return desired output. "
   ]
  },
  {
   "attachments": {},
   "cell_type": "markdown",
   "metadata": {},
   "source": [
    "## Exception Handling"
   ]
  },
  {
   "attachments": {},
   "cell_type": "markdown",
   "metadata": {},
   "source": [
    "### Areas Vulnerable to Error\n",
    "    \n",
    "1.  URL Parsing[`extract_video_id`]\n",
    "\n",
    "    - **Possible Exception(s)**\n",
    "        - If given URL is not a valid YouTube URL, the `extract_video_id` function may not be able to extract a valid video ID. \n",
    "    - **Solution**\n",
    "        - Validate input (URL & video ID)  \n",
    "<br>\n",
    "\n",
    "2. Fetching the Transcript\n",
    "\n",
    "    - **`get_transcript`**\n",
    "        - **Possible Exception(s)**\n",
    "            - Transcript not available. Some YouTube videos do not have transcripts. When the video ID of such a video is passed to the `get_transcript` function, it may result in an error. \n",
    "        - **Solution**\n",
    "            - Wrap the function fetching the transcript in a try-except block.\n",
    "    - **`format_transcript`**\n",
    "        - **Possible Exception(s)**\n",
    "            - Empty transcript - Occasionally a transcript for a given video doesn't contain any text. Returning an empty string.\n",
    "        - **Solution** \n",
    "            - Check for empty string, if true - raise custom exception.  \n",
    "<br>\n",
    "  \n",
    "3. File Handling [`output_transcript`]\n",
    "\n",
    "    - **Possible Exception(s)**\n",
    "        - As function [`output_transcript`] handles output of data to a file, in the event of a duplicate file name, the function will overwrite the file.\n",
    "            - Intended behavior\n",
    "    - **Solution**\n",
    "        - Best practice to notify user, request input in the event of overwriting file.  \n",
    "<br>\n",
    "\n",
    "4. I/O Errors [`output_transcript`]\n",
    "\n",
    "    - **Possible Exception(s)**\n",
    "        - As function [`output_transcript`] handles output of data to a file, error is possible.\n",
    "            - Lack of permissions\n",
    "            - Insufficient disk space\n",
    "    - **Solution**\n",
    "        - Encase function `output_transcript` in a try-except block. \n",
    "<br>"
   ]
  },
  {
   "attachments": {},
   "cell_type": "markdown",
   "metadata": {},
   "source": [
    "### Additional Considerations\n",
    "- Specificity\n",
    "    - Catch only specific exceptions as you exxpect them to occur.\n",
    "    - Allow unexpected exceptions to propogate.\n",
    "        - Subsequently handled by a higher-level error handler.\n",
    "        - Logged for debugging."
   ]
  },
  {
   "attachments": {},
   "cell_type": "markdown",
   "metadata": {},
   "source": [
    "# Implementation\n",
    "---"
   ]
  },
  {
   "attachments": {},
   "cell_type": "markdown",
   "metadata": {},
   "source": [
    "## Components\n",
    "---"
   ]
  },
  {
   "attachments": {},
   "cell_type": "markdown",
   "metadata": {},
   "source": [
    "### 1 `extract_video_id(url)`\n",
    "> *Given a URL, return a Video ID*"
   ]
  },
  {
   "cell_type": "code",
   "execution_count": null,
   "metadata": {},
   "outputs": [],
   "source": [
    "from urllib.parse import urlparse, parse_qs\n",
    "\n",
    "def extract_video_id(url):\n",
    "  '''\n",
    "  Function to extract the video ID from a YouTube URL.\n",
    "  PARAMETERS:\n",
    "  url (type: str): The YouTube URL\n",
    "  RETURN:\n",
    "  video_id 'v' (type: str): Extracted video ID, or None if no ID found.\n",
    "  '''\n",
    "  # Use urlparse to break up the URL into components.\n",
    "  parsed_url = urlparse(url)\n",
    "  \n",
    "  # Use parse_qs to parse the query string (after '?') from given URL.\n",
    "  # This returns a dictionary where keys are parameter names ('v' as it were)\n",
    "  # and values are lists of corresponding values. \n",
    "  video_id = parse_qs(parsed_url.query).get('v')\n",
    "  \n",
    "  # If 'v' parameter is found in the dictionary, return it's value (video ID)\n",
    "  # If not found, return None.\n",
    "  if video_id:\n",
    "    return video_id[0] # 'v' parameter's value is the video ID\n",
    "  else:\n",
    "    return None # 'v' parameter not found in given URL"
   ]
  },
  {
   "attachments": {},
   "cell_type": "markdown",
   "metadata": {},
   "source": [
    "### 2 `get_transcript(video_id)`\n",
    "> Given the Video ID, return the Transcript."
   ]
  },
  {
   "cell_type": "code",
   "execution_count": null,
   "metadata": {},
   "outputs": [],
   "source": [
    "# Import the YouTubeTranscriptApi library.\n",
    "# Provides functionality with YouTube to fetch transcripts\n",
    "from youtube_transcript_api import YouTubeTranscriptApi\n",
    "\n",
    "def get_transcript(video_id):\n",
    "  '''\n",
    "  Function to fetch a transcript given a YouTube video ID. \n",
    "  PARAMETERS:\n",
    "  video_id (type: str): YouTube video ID\n",
    "  RETURNS:\n",
    "  transcript (type: list of dict):\n",
    "  The transcript is returned as a list of dictionaries.\n",
    "  Each dictionary represents a segment of the transcript, contains text, \n",
    "  start time, and duration.\n",
    "  '''\n",
    "  try:\n",
    "    transcript = YouTubeTranscriptApi.get_transcript(video_id)\n",
    "    # If fetch was successful, return transcript as list of dictionaries.\n",
    "    return transcript\n",
    "    # If an error occurs during fetch, catch exception. \n",
    "  except Exception as e:\n",
    "    # Print an error message. Placeholder {e} is replaced with details.\n",
    "    print(f\"An error occurred: {e}\")\n",
    "    # Since an error occurred, return type None. \n",
    "    return None"
   ]
  },
  {
   "attachments": {},
   "cell_type": "markdown",
   "metadata": {},
   "source": [
    "### 3 `format_transcript(transcript)`\n",
    "> Given the Transcript, return reformatted transcript."
   ]
  },
  {
   "cell_type": "code",
   "execution_count": null,
   "metadata": {},
   "outputs": [],
   "source": [
    "def format_transcript(transcript):\n",
    "  '''\n",
    "  Function to format the returned transcript.\n",
    "  PARAMETERS:\n",
    "  transcript (list): Data from the transcript as a list of dictionaries.\n",
    "  RETURNS:\n",
    "  str: The formatted transcript as a single string. \n",
    "  '''\n",
    "\n",
    "  # Use a list comprehension to extract the 'text' from each dictionary.\n",
    "  # The resultant texts list is a list of strings.\n",
    "  texts = [segment['text'] for segment in transcript]\n",
    "\n",
    "  # Join the strings in the texts list into a single string, with each \n",
    "  # string separated by a space. \n",
    "  formatted_transcript = ' '.join(texts)\n",
    "\n",
    "  return formatted_transcript"
   ]
  },
  {
   "attachments": {},
   "cell_type": "markdown",
   "metadata": {},
   "source": [
    "### 4 `output_transcript(transcript, filename)`\n",
    "> Given reformatted transcript + filename, output the transcript to a file."
   ]
  },
  {
   "cell_type": "code",
   "execution_count": null,
   "metadata": {},
   "outputs": [],
   "source": [
    "def output_transcript(transcript, filename):\n",
    "  '''\n",
    "  Function to output the transcript to a text file. \n",
    "  PARAMETERS:\n",
    "  transcript (str): Reformatted script\n",
    "  filename (str): Name of file to which to write within CD\n",
    "  RETURNS:\n",
    "  None\n",
    "  '''\n",
    "\n",
    "  # Open the specified file in write mode ('w').\n",
    "  # If file exists - overwrite. If not - create. \n",
    "  with open(filename, 'w') as file:\n",
    "    # Write the transcript to the file.\n",
    "    file.write(transcript)"
   ]
  },
  {
   "attachments": {},
   "cell_type": "markdown",
   "metadata": {},
   "source": [
    "## Integration (1-4)\n",
    "> Integrate components with function:   `main`. "
   ]
  },
  {
   "cell_type": "code",
   "execution_count": null,
   "metadata": {},
   "outputs": [],
   "source": [
    "from urllib.parse import urlparse, parse_qs\n",
    "from youtube_transcript_api import YouTubeTranscriptApi\n",
    "\n",
    "# Function to extract video ID from URL\n",
    "def extract_video_id(url):\n",
    "    '''\n",
    "    Function to extract the video ID from a YouTube URL.\n",
    "\n",
    "    Parameters:\n",
    "    url (str): The YouTube URL.\n",
    "\n",
    "    Returns:\n",
    "    str: The extracted video ID.\n",
    "    '''\n",
    "\n",
    "    # Parse the URL\n",
    "    parsed_url = urlparse(url)\n",
    "\n",
    "    # Extract the video ID from the 'v' query parameter\n",
    "    video_id = parse_qs(parsed_url.query).get('v')\n",
    "    if video_id:\n",
    "        return video_id[0]\n",
    "    else:\n",
    "        return None\n",
    "\n",
    "# Function to obtain transcript\n",
    "def get_transcript(video_id):\n",
    "    '''\n",
    "    Function to get the transcript of a YouTube video.\n",
    "\n",
    "    Parameters:\n",
    "    video_id (str): The YouTube video ID.\n",
    "\n",
    "    Returns:\n",
    "    list: The video transcript.\n",
    "    '''\n",
    "\n",
    "    try:\n",
    "        transcript = YouTubeTranscriptApi.get_transcript(video_id)\n",
    "        return transcript\n",
    "    except Exception as e:\n",
    "        print(f\"An error occurred: {e}\")\n",
    "        return None\n",
    "\n",
    "# Function to format transcript\n",
    "def format_transcript(transcript):\n",
    "    '''\n",
    "    Function to format the transcript.\n",
    "\n",
    "    Parameters:\n",
    "    transcript (list): The transcript data as a list of dictionaries.\n",
    "\n",
    "    Returns:\n",
    "    str: The formatted transcript as a single string.\n",
    "    '''\n",
    "\n",
    "    # Use a list comprehension to extract the 'text' from each dictionary.\n",
    "    texts = [segment['text'] for segment in transcript]\n",
    "\n",
    "    # Join the strings in the texts list into a single string.\n",
    "    formatted_transcript = ' '.join(texts)\n",
    "\n",
    "    return formatted_transcript\n",
    "\"\"\"\n",
    "# Function to output transcript (print)\n",
    "def output_transcript(transcript):\n",
    "  '''\n",
    "  Function to output the transcript to the console.\n",
    "  \n",
    "  Parameters:\n",
    "  transcript (str): The reformatted transcript.\n",
    "  \n",
    "  Returns:\n",
    "  None\n",
    "  '''\n",
    "  print(transcript)\n",
    " \"\"\"\n",
    "# Function to output transcript (save)\n",
    "def output_transcript(transcript, filename):\n",
    "  '''\n",
    "  Function to output the trasncript to a file. \n",
    "\n",
    "  Parameters:\n",
    "  transcript(str): The reformatted transcript.\n",
    "\n",
    "  Returns:\n",
    "  None\n",
    "  '''\n",
    "  # Open the specified file in write mode ('w').\n",
    "  # If file already exists - overwrite. If new - create.\n",
    "  with open(filename, 'w') as file:\n",
    "    # Write the transcript to the file.\n",
    "    file.write(transcript)\n",
    "\n",
    "# Main function\n",
    "def main(url, filename):\n",
    "    '''\n",
    "    Main function to get and output the transcript of a YouTube video.\n",
    "\n",
    "    Parameters:\n",
    "    url (str): The YouTube video URL.\n",
    "    filename (str): The name of the file (within cd) to which to save transcript.\n",
    "\n",
    "    Returns:\n",
    "    None\n",
    "    '''\n",
    "\n",
    "    # Extract the video ID from the URL.\n",
    "    video_id = extract_video_id(url)\n",
    "\n",
    "    # Get the transcript.\n",
    "    transcript = get_transcript(video_id)\n",
    "\n",
    "    # Format the transcript.\n",
    "    formatted_transcript = format_transcript(transcript)\n",
    "\n",
    "    # Output the transcript.\n",
    "    output_transcript(formatted_transcript, filename)\n",
    "\n",
    "# Test the main function\n",
    "main(\"https://www.youtube.com/watch?v=dQw4w9WgXcQ\", \"transcript.txt\")"
   ]
  },
  {
   "attachments": {},
   "cell_type": "markdown",
   "metadata": {},
   "source": [
    "# Testing\n",
    "---"
   ]
  },
  {
   "attachments": {},
   "cell_type": "markdown",
   "metadata": {},
   "source": [
    "# Maintenance\n",
    "---"
   ]
  }
 ],
 "metadata": {
  "language_info": {
   "name": "python"
  },
  "orig_nbformat": 4
 },
 "nbformat": 4,
 "nbformat_minor": 2
}
